{
 "metadata": {
  "name": "Generate defaults"
 },
 "nbformat": 3,
 "nbformat_minor": 0,
 "worksheets": [
  {
   "cells": [
    {
     "cell_type": "code",
     "collapsed": false,
     "input": [
      "import os, json, pprint"
     ],
     "language": "python",
     "metadata": {},
     "outputs": [],
     "prompt_number": 20
    },
    {
     "cell_type": "code",
     "collapsed": false,
     "input": [
      "collection_list = []"
     ],
     "language": "python",
     "metadata": {},
     "outputs": [],
     "prompt_number": 21
    },
    {
     "cell_type": "markdown",
     "metadata": {},
     "source": [
      "collections to include:\n",
      "\n",
      "* **Image series**\n",
      "    * Brainmaps\n",
      "    * Zebrafinch atlas\n",
      "* **Electron Microscopy**\n",
      "    * Knossos examples\n",
      "    * Openconnectome data\n",
      "    * Eyewire\n",
      "* **Medical content**\n",
      "    * UCSD / AIBS autism\n",
      "    * WHO Guidelines\n"
     ]
    },
    {
     "cell_type": "code",
     "collapsed": false,
     "input": [
      "brainmaps = {\n",
      "             'class_name' : 'wsBrainMapsCollection',\n",
      "             }\n",
      "\n",
      "\n",
      "base = {\n",
      "        'class_name' : 'wsCollectionObject',\n",
      "        'title' : 'Image series',\n",
      "        'description' : 'Collections of one or more high resolution image sets',\n",
      "        'children' : [ brainmaps ]\n",
      "        }\n",
      "\n",
      "collection_list.append(base)"
     ],
     "language": "python",
     "metadata": {},
     "outputs": [],
     "prompt_number": 22
    },
    {
     "cell_type": "code",
     "collapsed": false,
     "input": [
      "autism = {\n",
      "             'class_name' : 'wsAutismRootCollection',\n",
      "             }\n",
      "\n",
      "\n",
      "base = {\n",
      "        'class_name' : 'wsCollectionObject',\n",
      "        'title' : 'Medical content',\n",
      "        'description' : 'Medical content, raw and education',\n",
      "        'children' : [ autism ]\n",
      "        }\n",
      "\n",
      "collection_list.append(base)"
     ],
     "language": "python",
     "metadata": {},
     "outputs": [],
     "prompt_number": 23
    },
    {
     "cell_type": "code",
     "collapsed": false,
     "input": [
      "pprint.pprint(collection_list)"
     ],
     "language": "python",
     "metadata": {},
     "outputs": [
      {
       "output_type": "stream",
       "stream": "stdout",
       "text": [
        "[{'children': [{'class_name': 'wsBrainMapsCollection'}],\n",
        "  'class_name': 'wsCollectionObject',\n",
        "  'description': 'Collections of one or more high resolution image sets',\n",
        "  'title': 'Image series'},\n",
        " {'children': [{'class_name': 'wsAutismRootCollection'}],\n",
        "  'class_name': 'wsCollectionObject',\n",
        "  'description': 'Medical content, raw and education',\n",
        "  'title': 'Medical content'}]\n"
       ]
      }
     ],
     "prompt_number": 24
    },
    {
     "cell_type": "code",
     "collapsed": false,
     "input": [
      "json_content = open('defaults.json', 'w')\n",
      "json_content.write(json.dumps(collection_list))\n",
      "json_content.close()"
     ],
     "language": "python",
     "metadata": {},
     "outputs": [],
     "prompt_number": 25
    },
    {
     "cell_type": "code",
     "collapsed": false,
     "input": [],
     "language": "python",
     "metadata": {},
     "outputs": []
    }
   ],
   "metadata": {}
  }
 ]
}